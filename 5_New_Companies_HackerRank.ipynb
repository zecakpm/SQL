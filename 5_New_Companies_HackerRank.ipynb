{
  "nbformat": 4,
  "nbformat_minor": 0,
  "metadata": {
    "colab": {
      "name": "5-New Companies - HackerRank.ipynb",
      "provenance": [],
      "collapsed_sections": [],
      "authorship_tag": "ABX9TyOkM77ZKAME7sTYovr/+9Fn",
      "include_colab_link": true
    },
    "kernelspec": {
      "name": "python3",
      "display_name": "Python 3"
    },
    "language_info": {
      "name": "python"
    }
  },
  "cells": [
    {
      "cell_type": "markdown",
      "metadata": {
        "id": "view-in-github",
        "colab_type": "text"
      },
      "source": [
        "<a href=\"https://colab.research.google.com/github/zecakpm/SQL/blob/main/5_New_Companies_HackerRank.ipynb\" target=\"_parent\"><img src=\"https://colab.research.google.com/assets/colab-badge.svg\" alt=\"Open In Colab\"/></a>"
      ]
    },
    {
      "cell_type": "markdown",
      "metadata": {
        "id": "9C6v56h25V21"
      },
      "source": [
        "#5-New Companies - HackerRank\n",
        "COUNT, DISTINCT, LEFT JOIN, GROUP BY, ORDER BY"
      ]
    },
    {
      "cell_type": "code",
      "metadata": {
        "id": "pOxbmWmxgye3"
      },
      "source": [
        "SELECT\n",
        "    co.company_code,\n",
        "    founder,\n",
        "    COUNT(DISTINCT(lead_manager_code)) AS num_lead,\n",
        "    COUNT(DISTINCT(senior_manager_code)) AS num_senior,\n",
        "    COUNT(DISTINCT(manager_code)) AS num_manager,\n",
        "    COUNT(DISTINCT(employee_code))AS num_eployee\n",
        "FROM Employee em\n",
        "    LEFT JOIN\n",
        "    Company co\n",
        "    ON em.company_code = co.company_code\n",
        "GROUP BY 1,2\n",
        "ORDER BY 1"
      ],
      "execution_count": null,
      "outputs": []
    }
  ]
}