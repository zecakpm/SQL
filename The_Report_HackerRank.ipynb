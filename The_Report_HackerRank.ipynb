{
  "nbformat": 4,
  "nbformat_minor": 0,
  "metadata": {
    "colab": {
      "name": "The Report  - HackerRank.ipynb",
      "provenance": [],
      "authorship_tag": "ABX9TyNmGX66tscn9WvXe+hFpByb",
      "include_colab_link": true
    },
    "kernelspec": {
      "name": "python3",
      "display_name": "Python 3"
    },
    "language_info": {
      "name": "python"
    }
  },
  "cells": [
    {
      "cell_type": "markdown",
      "metadata": {
        "id": "view-in-github",
        "colab_type": "text"
      },
      "source": [
        "<a href=\"https://colab.research.google.com/github/zecakpm/SQL/blob/main/The_Report_HackerRank.ipynb\" target=\"_parent\"><img src=\"https://colab.research.google.com/assets/colab-badge.svg\" alt=\"Open In Colab\"/></a>"
      ]
    },
    {
      "cell_type": "code",
      "metadata": {
        "id": "gf2sjHxMXHCD"
      },
      "source": [
        "The Report - HackerRank"
      ],
      "execution_count": null,
      "outputs": []
    },
    {
      "cell_type": "code",
      "metadata": {
        "id": "6DwUlGdmXRMr"
      },
      "source": [
        "WITH main_tb AS (\n",
        "SELECT\n",
        "  * FROM STUDENTS st\n",
        "JOIN GRADES gr\n",
        "ON st.Marks\n",
        "BETWEEN gr.Min_Mark AND gr.Max_Mark )\n",
        "\n",
        "SELECT\n",
        "  IF(Grade<8,NULL,Name),\n",
        "  Grade,\n",
        "  Marks\n",
        "FROM main_tb ORDER BY 2 DESC, 1,3"
      ],
      "execution_count": null,
      "outputs": []
    }
  ]
}