{
  "nbformat": 4,
  "nbformat_minor": 0,
  "metadata": {
    "colab": {
      "name": "3-Placement - HackerHank.ipynb",
      "provenance": [],
      "authorship_tag": "ABX9TyNniadHVZf6bl6PzNu5Q/3z",
      "include_colab_link": true
    },
    "kernelspec": {
      "name": "python3",
      "display_name": "Python 3"
    },
    "language_info": {
      "name": "python"
    }
  },
  "cells": [
    {
      "cell_type": "markdown",
      "metadata": {
        "id": "view-in-github",
        "colab_type": "text"
      },
      "source": [
        "<a href=\"https://colab.research.google.com/github/zecakpm/SQL/blob/main/3_Placement_HackerHank.ipynb\" target=\"_parent\"><img src=\"https://colab.research.google.com/assets/colab-badge.svg\" alt=\"Open In Colab\"/></a>"
      ]
    },
    {
      "cell_type": "markdown",
      "metadata": {
        "id": "vPT8IxqY3Ogg"
      },
      "source": [
        "#3-Placement - HackerHank\n",
        "WITH, LEFT JOIN, WHERE, ORDER BY"
      ]
    },
    {
      "cell_type": "code",
      "metadata": {
        "id": "XFCmtCB63E5F"
      },
      "source": [
        "WITH st_pc AS ( #join student and packages table\n",
        "SELECT\n",
        "    st.ID,\n",
        "    Name,\n",
        "    Salary\n",
        "    FROM Students st \n",
        "    LEFT JOIN Packages pc\n",
        "    ON st.ID = pc.ID\n",
        "), fr_pc AS ( #join friends and package table by friend ID\n",
        "SELECT\n",
        "    fr.ID,\n",
        "    Friend_ID,\n",
        "    Salary\n",
        "    FROM Friends fr \n",
        "    LEFT JOIN Packages pc\n",
        "    ON fr.Friend_ID = pc.ID\n",
        ")\n",
        "\n",
        "SELECT Name \n",
        "FROM st_pc sp\n",
        "LEFT JOIN\n",
        "fr_pc fp ON\n",
        "sp.ID = fp.ID\n",
        "WHERE fp.Salary > sp.Salary # selecting friends higher salary\n",
        "ORDER BY fp.Salary # order by friends salary"
      ],
      "execution_count": null,
      "outputs": []
    },
    {
      "cell_type": "markdown",
      "metadata": {
        "id": "cpDyhkJx4OS9"
      },
      "source": [
        ""
      ]
    }
  ]
}