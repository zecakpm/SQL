{
  "nbformat": 4,
  "nbformat_minor": 0,
  "metadata": {
    "colab": {
      "name": "1-The Report  - HackerRank.ipynb",
      "provenance": [],
      "authorship_tag": "ABX9TyOdsso2LmsSakwzYDAsnEPe",
      "include_colab_link": true
    },
    "kernelspec": {
      "name": "python3",
      "display_name": "Python 3"
    },
    "language_info": {
      "name": "python"
    }
  },
  "cells": [
    {
      "cell_type": "markdown",
      "metadata": {
        "id": "view-in-github",
        "colab_type": "text"
      },
      "source": [
        "<a href=\"https://colab.research.google.com/github/zecakpm/SQL/blob/main/1_The_Report_HackerRank.ipynb\" target=\"_parent\"><img src=\"https://colab.research.google.com/assets/colab-badge.svg\" alt=\"Open In Colab\"/></a>"
      ]
    },
    {
      "cell_type": "markdown",
      "metadata": {
        "id": "4RFSj2bs_U6R"
      },
      "source": [
        "#1-The Report - HackerRank\n",
        "WITH, JOIN, BETWEEN, IF\n"
      ]
    },
    {
      "cell_type": "code",
      "metadata": {
        "id": "6DwUlGdmXRMr"
      },
      "source": [
        "WITH main_tb AS (\n",
        "SELECT\n",
        "  * FROM STUDENTS st\n",
        "JOIN GRADES gr\n",
        "ON st.Marks\n",
        "BETWEEN gr.Min_Mark AND gr.Max_Mark )\n",
        "\n",
        "SELECT\n",
        "  IF(Grade<8,NULL,Name),\n",
        "  Grade,\n",
        "  Marks\n",
        "FROM main_tb ORDER BY 2 DESC, 1,3"
      ],
      "execution_count": null,
      "outputs": []
    }
  ]
}