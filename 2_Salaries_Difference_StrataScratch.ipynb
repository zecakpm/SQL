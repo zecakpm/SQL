{
  "nbformat": 4,
  "nbformat_minor": 0,
  "metadata": {
    "colab": {
      "name": "2-Salaries Difference - StrataScratch.ipynb",
      "provenance": [],
      "authorship_tag": "ABX9TyMjtxTV+XabCg7xVF7YZUIA",
      "include_colab_link": true
    },
    "kernelspec": {
      "name": "python3",
      "display_name": "Python 3"
    },
    "language_info": {
      "name": "python"
    }
  },
  "cells": [
    {
      "cell_type": "markdown",
      "metadata": {
        "id": "view-in-github",
        "colab_type": "text"
      },
      "source": [
        "<a href=\"https://colab.research.google.com/github/zecakpm/SQL/blob/main/2_Salaries_Difference_StrataScratch.ipynb\" target=\"_parent\"><img src=\"https://colab.research.google.com/assets/colab-badge.svg\" alt=\"Open In Colab\"/></a>"
      ]
    },
    {
      "cell_type": "markdown",
      "metadata": {
        "id": "6KZafxRuAp8i"
      },
      "source": [
        "##2-Salaries Differences - StrataScratch\n",
        "MAX, LEFT JOIN, WHERE"
      ]
    },
    {
      "cell_type": "code",
      "metadata": {
        "id": "bCaQp8zjavgZ"
      },
      "source": [
        "SELECT\n",
        "  (\n",
        "  SELECT\n",
        "    MAX(salary)\n",
        "  FROM\n",
        "    db_employee a\n",
        "  LEFT JOIN\n",
        "    db_dept b\n",
        "  ON\n",
        "    a.department_id = b.id\n",
        "  WHERE\n",
        "    department = 'marketing') - (\n",
        "  SELECT\n",
        "    MAX(salary)\n",
        "  FROM\n",
        "    db_employee a\n",
        "  LEFT JOIN\n",
        "    db_dept b\n",
        "  ON\n",
        "    a.department_id = b.id\n",
        "  WHERE\n",
        "    department = 'engineering') AS salary_difference"
      ],
      "execution_count": null,
      "outputs": []
    }
  ]
}