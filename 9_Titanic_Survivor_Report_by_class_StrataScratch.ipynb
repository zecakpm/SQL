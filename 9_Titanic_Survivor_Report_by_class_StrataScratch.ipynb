{
  "nbformat": 4,
  "nbformat_minor": 0,
  "metadata": {
    "colab": {
      "provenance": [],
      "authorship_tag": "ABX9TyP9TWPGrus/ORYIp7TczXsM",
      "include_colab_link": true
    },
    "kernelspec": {
      "name": "python3",
      "display_name": "Python 3"
    },
    "language_info": {
      "name": "python"
    }
  },
  "cells": [
    {
      "cell_type": "markdown",
      "metadata": {
        "id": "view-in-github",
        "colab_type": "text"
      },
      "source": [
        "<a href=\"https://colab.research.google.com/github/zecakpm/SQL/blob/main/9_Titanic_Survivor_Report_by_class_StrataScratch.ipynb\" target=\"_parent\"><img src=\"https://colab.research.google.com/assets/colab-badge.svg\" alt=\"Open In Colab\"/></a>"
      ]
    },
    {
      "cell_type": "markdown",
      "metadata": {
        "id": "_FNF2XQfNhQ5"
      },
      "source": [
        "##9-Titanic Survivor Report by class - StrataScratch\n",
        "WITH, CASE WHEN, COUNT"
      ]
    },
    {
      "cell_type": "code",
      "metadata": {
        "id": "jtWjFBbMNPqE"
      },
      "source": [
        "SELECT survived,\n",
        "# COUNT + CASE WHEN will transpose values from 1 column to 3 different columns\n",
        "COUNT(CASE WHEN pclass = 1 THEN 1 END) AS first_class,\n",
        "COUNT(CASE WHEN pclass = 2 THEN 2 END) AS second_class,\n",
        "COUNT(CASE WHEN pclass = 3 THEN 3 END) AS third_class\n",
        "FROM titanic\n",
        "GROUP BY 1;"
      ],
      "execution_count": null,
      "outputs": []
    }
  ]
}