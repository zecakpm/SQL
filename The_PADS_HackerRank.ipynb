{
  "nbformat": 4,
  "nbformat_minor": 0,
  "metadata": {
    "colab": {
      "name": "The PADS - HackerRank.ipynb",
      "provenance": [],
      "authorship_tag": "ABX9TyNoapaR0QurnKKKYH0cBTbl",
      "include_colab_link": true
    },
    "kernelspec": {
      "name": "python3",
      "display_name": "Python 3"
    },
    "language_info": {
      "name": "python"
    }
  },
  "cells": [
    {
      "cell_type": "markdown",
      "metadata": {
        "id": "view-in-github",
        "colab_type": "text"
      },
      "source": [
        "<a href=\"https://colab.research.google.com/github/zecakpm/SQL/blob/main/The_PADS_HackerRank.ipynb\" target=\"_parent\"><img src=\"https://colab.research.google.com/assets/colab-badge.svg\" alt=\"Open In Colab\"/></a>"
      ]
    },
    {
      "cell_type": "code",
      "metadata": {
        "id": "6oljrGdvdkz5"
      },
      "source": [
        "The PADS - HackerRank"
      ],
      "execution_count": null,
      "outputs": []
    },
    {
      "cell_type": "code",
      "metadata": {
        "id": "k7SsXsTKdMij"
      },
      "source": [
        "SELECT\n",
        "    CONCAT(NAME,\"(\",SUBSTRING(OCCUPATION,1,1),\")\") AS LETTER\n",
        "FROM \n",
        "    OCCUPATIONS\n",
        "ORDER BY NAME;\n",
        "\n",
        "WITH BASE AS (\n",
        "SELECT\n",
        "    OCCUPATION,\n",
        "    COUNT(OCCUPATION) AS CNT_OC\n",
        "FROM OCCUPATIONS\n",
        "GROUP BY 1 \n",
        ")\n",
        "\n",
        "SELECT \n",
        "    CASE\n",
        "        WHEN OCCUPATION = 'Doctor' THEN CONCAT(\" There are a total of \", CNT_OC,' doctors.')\n",
        "        WHEN OCCUPATION = 'Singer' THEN CONCAT(\" There are a total of \", CNT_OC,' singers.')\n",
        "        WHEN OCCUPATION = 'Actor' THEN CONCAT(\" There are a total of \", CNT_OC,' actors.')\n",
        "        WHEN OCCUPATION = 'Professor' THEN CONCAT(\" There are a total of \", CNT_OC,' professors.')\n",
        "        ELSE \"\"\n",
        "    END\n",
        "FROM BASE\n",
        "ORDER BY 1"
      ],
      "execution_count": null,
      "outputs": []
    }
  ]
}