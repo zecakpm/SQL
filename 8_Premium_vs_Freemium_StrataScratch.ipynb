{
  "nbformat": 4,
  "nbformat_minor": 0,
  "metadata": {
    "colab": {
      "name": "8-Premium vs Freemium - StrataScratch.ipynb",
      "provenance": [],
      "collapsed_sections": [],
      "authorship_tag": "ABX9TyNH0rJfp2vyk6xRsk/ROurQ",
      "include_colab_link": true
    },
    "kernelspec": {
      "name": "python3",
      "display_name": "Python 3"
    },
    "language_info": {
      "name": "python"
    }
  },
  "cells": [
    {
      "cell_type": "markdown",
      "metadata": {
        "id": "view-in-github",
        "colab_type": "text"
      },
      "source": [
        "<a href=\"https://colab.research.google.com/github/zecakpm/SQL/blob/main/8_Premium_vs_Freemium_StrataScratch.ipynb\" target=\"_parent\"><img src=\"https://colab.research.google.com/assets/colab-badge.svg\" alt=\"Open In Colab\"/></a>"
      ]
    },
    {
      "cell_type": "markdown",
      "metadata": {
        "id": "_FNF2XQfNhQ5"
      },
      "source": [
        "##8-Premium vs Freemium - StrataScratch\n",
        "WITH, JOIN, GROUP BY, ORDER"
      ]
    },
    {
      "cell_type": "code",
      "metadata": {
        "id": "jtWjFBbMNPqE"
      },
      "source": [
        "WITH downloads_yes AS ( # selecting paying customers \n",
        "SELECT\n",
        "date,\n",
        "sum(downloads) AS sum_downloads_yes\n",
        "FROM\n",
        "ms_download_facts df\n",
        "JOIN\n",
        "ms_user_dimension ud\n",
        "ON df.user_id = ud.user_id\n",
        "JOIN\n",
        "ms_acc_dimension ad\n",
        "ON ud.acc_id = ad.acc_id\n",
        "WHERE paying_customer = 'yes'\n",
        "GROUP BY 1), \n",
        "\n",
        "downloads_no AS ( # selecting non paying customers\n",
        "SELECT\n",
        "date,\n",
        "sum(downloads) AS sum_downloads_no\n",
        "FROM\n",
        "ms_download_facts df\n",
        "JOIN\n",
        "ms_user_dimension ud\n",
        "ON df.user_id = ud.user_id\n",
        "JOIN\n",
        "ms_acc_dimension ad\n",
        "ON ud.acc_id = ad.acc_id\n",
        "WHERE paying_customer = 'no'\n",
        "GROUP BY 1)\n",
        "\n",
        "SELECT # putting the 2 tables together\n",
        "dy.date, sum_downloads_no,sum_downloads_yes\n",
        "FROM downloads_yes dy\n",
        "JOIN\n",
        "downloads_no dn\n",
        "ON dy.date = dn.date\n",
        "WHERE sum_downloads_no > sum_downloads_yes\n",
        "ORDER BY 1"
      ],
      "execution_count": null,
      "outputs": []
    }
  ]
}