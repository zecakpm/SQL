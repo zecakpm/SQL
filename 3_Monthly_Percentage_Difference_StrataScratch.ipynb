{
  "nbformat": 4,
  "nbformat_minor": 0,
  "metadata": {
    "colab": {
      "name": "3-Monthly Percentage Difference - StrataScratch.ipynb",
      "provenance": [],
      "authorship_tag": "ABX9TyMobkx/DgjfZ0HzQJjZHNCt",
      "include_colab_link": true
    },
    "kernelspec": {
      "name": "python3",
      "display_name": "Python 3"
    },
    "language_info": {
      "name": "python"
    }
  },
  "cells": [
    {
      "cell_type": "markdown",
      "metadata": {
        "id": "view-in-github",
        "colab_type": "text"
      },
      "source": [
        "<a href=\"https://colab.research.google.com/github/zecakpm/SQL/blob/main/3_Monthly_Percentage_Difference_StrataScratch.ipynb\" target=\"_parent\"><img src=\"https://colab.research.google.com/assets/colab-badge.svg\" alt=\"Open In Colab\"/></a>"
      ]
    },
    {
      "cell_type": "markdown",
      "metadata": {
        "id": "UI82f5cdA7g6"
      },
      "source": [
        "#3-Monthly Percentage Difference - StrataScratch\n",
        "TO_CHAR,LAG,OVER,ROUND\n",
        "\n",
        "\n"
      ]
    },
    {
      "cell_type": "code",
      "metadata": {
        "id": "uM9d6F2pA65q"
      },
      "source": [
        "WITH\n",
        "  revenue_month AS (\n",
        "  SELECT\n",
        "    TO_CHAR(created_at,\n",
        "      'yyyy-mm') AS year_month,\n",
        "    EXTRACT(month\n",
        "    FROM\n",
        "      created_at) AS month,\n",
        "    SUM(value) AS sum_revenue\n",
        "  FROM\n",
        "    sf_transactions\n",
        "  GROUP BY\n",
        "    1,\n",
        "    2\n",
        "  ORDER BY\n",
        "    2),\n",
        "  lag_revenue AS (\n",
        "  SELECT\n",
        "    year_month,\n",
        "    month,\n",
        "    sum_revenue,\n",
        "    LAG(sum_revenue,1) OVER(ORDER BY month ASC) AS last_month_revenue\n",
        "  FROM\n",
        "    revenue_month )\n",
        "SELECT\n",
        "  year_month,\n",
        "  ROUND(((sum_revenue-last_month_revenue)/last_month_revenue *100),2) AS pct_diff\n",
        "FROM\n",
        "  lag_revenue"
      ],
      "execution_count": null,
      "outputs": []
    }
  ]
}