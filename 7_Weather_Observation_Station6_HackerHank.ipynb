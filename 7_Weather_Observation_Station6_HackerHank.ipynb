{
  "nbformat": 4,
  "nbformat_minor": 0,
  "metadata": {
    "colab": {
      "name": "7-Weather_Observation_Station6 - HackerHank.ipynb",
      "provenance": [],
      "collapsed_sections": [],
      "authorship_tag": "ABX9TyPsgW8dJzHe+PKiUxY5flgT",
      "include_colab_link": true
    },
    "kernelspec": {
      "name": "python3",
      "display_name": "Python 3"
    },
    "language_info": {
      "name": "python"
    }
  },
  "cells": [
    {
      "cell_type": "markdown",
      "metadata": {
        "id": "view-in-github",
        "colab_type": "text"
      },
      "source": [
        "<a href=\"https://colab.research.google.com/github/zecakpm/SQL/blob/main/7_Weather_Observation_Station6_HackerHank.ipynb\" target=\"_parent\"><img src=\"https://colab.research.google.com/assets/colab-badge.svg\" alt=\"Open In Colab\"/></a>"
      ]
    },
    {
      "cell_type": "markdown",
      "source": [
        "##7-Weather Observation Station 6 - HackerHank\n",
        "\n",
        "How to regex to select cities with vowels as the first letters MySQL\n",
        "\n"
      ],
      "metadata": {
        "id": "HsPddry3uX_U"
      }
    },
    {
      "cell_type": "code",
      "execution_count": null,
      "metadata": {
        "id": "TrXHZMtDuNGy"
      },
      "outputs": [],
      "source": [
        "SELECT CITY\n",
        "FROM STATION\n",
        "WHERE\n",
        "CITY RLIKE '^[aeiouAEIOU]'"
      ]
    }
  ]
}