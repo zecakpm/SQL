{
  "nbformat": 4,
  "nbformat_minor": 0,
  "metadata": {
    "colab": {
      "name": "8-Weather Observation Station 7 - HackerHank.ipynb",
      "provenance": [],
      "collapsed_sections": [],
      "authorship_tag": "ABX9TyO092aQWMZPm/NdHTkopw8m",
      "include_colab_link": true
    },
    "kernelspec": {
      "name": "python3",
      "display_name": "Python 3"
    },
    "language_info": {
      "name": "python"
    }
  },
  "cells": [
    {
      "cell_type": "markdown",
      "metadata": {
        "id": "view-in-github",
        "colab_type": "text"
      },
      "source": [
        "<a href=\"https://colab.research.google.com/github/zecakpm/SQL/blob/main/8_Weather_Observation_Station_7_HackerHank.ipynb\" target=\"_parent\"><img src=\"https://colab.research.google.com/assets/colab-badge.svg\" alt=\"Open In Colab\"/></a>"
      ]
    },
    {
      "cell_type": "markdown",
      "source": [
        "##8-Weather Observation Station 7 - HackerHank\n",
        "\n",
        "Select distinc cties where the last letter is a vowel :"
      ],
      "metadata": {
        "id": "WFeqt1lWyaTc"
      }
    },
    {
      "cell_type": "code",
      "execution_count": null,
      "metadata": {
        "id": "P3XoYtqJyMEk"
      },
      "outputs": [],
      "source": [
        "SELECT DISTINCT CITY \n",
        "FROM STATION\n",
        "WHERE CITY RLIKE '^*[aeiouAEIOU]$'\n",
        "ORDER BY CITY"
      ]
    }
  ]
}