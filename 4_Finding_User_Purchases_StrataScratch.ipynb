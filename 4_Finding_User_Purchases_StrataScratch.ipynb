{
  "nbformat": 4,
  "nbformat_minor": 0,
  "metadata": {
    "colab": {
      "name": "4-Finding User Purchases - StrataScratch.ipynb",
      "provenance": [],
      "authorship_tag": "ABX9TyNFxtDF3YW8hWPkOMs94lLJ",
      "include_colab_link": true
    },
    "kernelspec": {
      "name": "python3",
      "display_name": "Python 3"
    },
    "language_info": {
      "name": "python"
    }
  },
  "cells": [
    {
      "cell_type": "markdown",
      "metadata": {
        "id": "view-in-github",
        "colab_type": "text"
      },
      "source": [
        "<a href=\"https://colab.research.google.com/github/zecakpm/SQL/blob/main/4_Finding_User_Purchases_StrataScratch.ipynb\" target=\"_parent\"><img src=\"https://colab.research.google.com/assets/colab-badge.svg\" alt=\"Open In Colab\"/></a>"
      ]
    },
    {
      "cell_type": "markdown",
      "metadata": {
        "id": "As8zCEgjHxHB"
      },
      "source": [
        "##4-Finding User Purchases - StrataScratch\n",
        "\n",
        "LAG, OVER, PARTITION, DISTINCT"
      ]
    },
    {
      "cell_type": "code",
      "metadata": {
        "id": "K9VAEoeVHwFF"
      },
      "source": [
        "SELECT \n",
        "    user_id,\n",
        "    created_at,\n",
        "    lag(created_at) OVER (PARTITION BY user_id ORDER BY created_at) AS lag_date\n",
        "FROM\n",
        "    amazon_transactions)\n",
        "SELECT DISTINCT user_id\n",
        "FROM base \n",
        "WHERE (created_at - lag_date) <= 7\n"
      ],
      "execution_count": null,
      "outputs": []
    }
  ]
}