{
  "nbformat": 4,
  "nbformat_minor": 0,
  "metadata": {
    "colab": {
      "name": "2-Binary tree nodes - HackerRank.ipynb",
      "provenance": [],
      "collapsed_sections": [],
      "authorship_tag": "ABX9TyNpTGHxewYrIr/V5nFvx3YR",
      "include_colab_link": true
    },
    "kernelspec": {
      "name": "python3",
      "display_name": "Python 3"
    },
    "language_info": {
      "name": "python"
    }
  },
  "cells": [
    {
      "cell_type": "markdown",
      "metadata": {
        "id": "view-in-github",
        "colab_type": "text"
      },
      "source": [
        "<a href=\"https://colab.research.google.com/github/zecakpm/SQL/blob/main/2_Binary_tree_nodes_HackerRank.ipynb\" target=\"_parent\"><img src=\"https://colab.research.google.com/assets/colab-badge.svg\" alt=\"Open In Colab\"/></a>"
      ]
    },
    {
      "cell_type": "markdown",
      "metadata": {
        "id": "GhTcNVqvWrYV"
      },
      "source": [
        "#2-Binary tree nodes - HackerRank\n",
        "IF, NULL, COUNT\n",
        "\n"
      ]
    },
    {
      "cell_type": "code",
      "metadata": {
        "id": "u4KCa3NvXcJN"
      },
      "source": [
        "SELECT N,\n",
        "    IF(P IS NULL, 'Root',\n",
        "      IF((SELECT COUNT(*)\n",
        "         FROM BST\n",
        "            WHERE P=out_bst.N)>0,'Inner','Leaf'))\n",
        "        FROM BST AS out_bst\n",
        "            ORDER BY N;"
      ],
      "execution_count": null,
      "outputs": []
    }
  ]
}