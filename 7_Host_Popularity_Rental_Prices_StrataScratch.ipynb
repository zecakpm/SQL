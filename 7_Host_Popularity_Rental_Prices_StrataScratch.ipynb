{
  "nbformat": 4,
  "nbformat_minor": 0,
  "metadata": {
    "colab": {
      "name": "7-Host Popularity Rental Prices - StrataScratch.ipynb",
      "provenance": [],
      "authorship_tag": "ABX9TyPX2x/hFyIDTf159aKoiNNw",
      "include_colab_link": true
    },
    "kernelspec": {
      "name": "python3",
      "display_name": "Python 3"
    },
    "language_info": {
      "name": "python"
    }
  },
  "cells": [
    {
      "cell_type": "markdown",
      "metadata": {
        "id": "view-in-github",
        "colab_type": "text"
      },
      "source": [
        "<a href=\"https://colab.research.google.com/github/zecakpm/SQL/blob/main/7_Host_Popularity_Rental_Prices_StrataScratch.ipynb\" target=\"_parent\"><img src=\"https://colab.research.google.com/assets/colab-badge.svg\" alt=\"Open In Colab\"/></a>"
      ]
    },
    {
      "cell_type": "markdown",
      "metadata": {
        "id": "2m44jkdOtVTM"
      },
      "source": [
        "##7-Host Popularity Rental Prices - StrataScratch\n",
        "WITH, CASE - WHEN, MAX, MIN, AVG"
      ]
    },
    {
      "cell_type": "code",
      "metadata": {
        "id": "2w7CZYs6tUMi"
      },
      "source": [
        "WITH clt_rates  AS (\n",
        "SELECT\n",
        "CONCAT(price, room_type, host_since, zipcode,number_of_reviews) AS host_id,\n",
        "    CASE\n",
        "           WHEN (sum(number_of_reviews) = 0) THEN 'New'\n",
        "           WHEN (sum(number_of_reviews) > 0) AND (sum(number_of_reviews) <=5) THEN 'Rising'\n",
        "           WHEN (sum(number_of_reviews) > 5) AND (sum(number_of_reviews) <=15) THEN 'Trending Up'\n",
        "           WHEN (sum(number_of_reviews) > 15) AND (sum(number_of_reviews) <=40) THEN 'Popular'\n",
        "           WHEN (sum(number_of_reviews) > 40) THEN 'Hot'\n",
        "        ELSE ''\n",
        "        END AS pop_rating,\n",
        "price\n",
        "FROM\n",
        "airbnb_host_searches\n",
        "GROUP BY 1,3)\n",
        "\n",
        "\n",
        "SELECT\n",
        "pop_rating,\n",
        "min(price) min_price,\n",
        "avg(price) avg_price,\n",
        "max(price) max_price\n",
        "\n",
        "FROM clt_rates\n",
        "GROUP by 1"
      ],
      "execution_count": null,
      "outputs": []
    }
  ]
}