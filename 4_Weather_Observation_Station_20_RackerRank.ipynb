{
  "nbformat": 4,
  "nbformat_minor": 0,
  "metadata": {
    "colab": {
      "name": "4-Weather Observation Station 20 - RackerRank.ipynb",
      "provenance": [],
      "collapsed_sections": [],
      "authorship_tag": "ABX9TyM3Cqq3ZfYjFioyOXV3Mpw9",
      "include_colab_link": true
    },
    "kernelspec": {
      "name": "python3",
      "display_name": "Python 3"
    },
    "language_info": {
      "name": "python"
    }
  },
  "cells": [
    {
      "cell_type": "markdown",
      "metadata": {
        "id": "view-in-github",
        "colab_type": "text"
      },
      "source": [
        "<a href=\"https://colab.research.google.com/github/zecakpm/SQL/blob/main/4_Weather_Observation_Station_20_RackerRank.ipynb\" target=\"_parent\"><img src=\"https://colab.research.google.com/assets/colab-badge.svg\" alt=\"Open In Colab\"/></a>"
      ]
    },
    {
      "cell_type": "markdown",
      "metadata": {
        "id": "XIniEwMrAUMa"
      },
      "source": [
        "#4-Weather Observation Station 20 - RackerRank\n",
        "* median calculation with rank, over and count"
      ]
    },
    {
      "cell_type": "code",
      "metadata": {
        "id": "dmmtN8cAAOd3"
      },
      "source": [
        "WITH main_tb AS (\n",
        "SELECT\n",
        "*,\n",
        "RANK() OVER(ORDER BY LAT_N) AS rn, \n",
        "COUNT(*) OVER () AS rn_cnt\n",
        "FROM STATION\n",
        "\n",
        ")\n",
        "\n",
        "SELECT ROUND(LAT_N,4) AS LAT_N FROM main_tb\n",
        "WHERE rn in (((rn_cnt+1)/2), ((rn_cnt+2)/2))"
      ],
      "execution_count": null,
      "outputs": []
    }
  ]
}