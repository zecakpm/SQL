{
  "nbformat": 4,
  "nbformat_minor": 0,
  "metadata": {
    "colab": {
      "name": "5-Top Cool Votes - StrataScratch.ipynb",
      "provenance": [],
      "authorship_tag": "ABX9TyOWzBbjju5erifqy7MOwOwn",
      "include_colab_link": true
    },
    "kernelspec": {
      "name": "python3",
      "display_name": "Python 3"
    },
    "language_info": {
      "name": "python"
    }
  },
  "cells": [
    {
      "cell_type": "markdown",
      "metadata": {
        "id": "view-in-github",
        "colab_type": "text"
      },
      "source": [
        "<a href=\"https://colab.research.google.com/github/zecakpm/SQL/blob/main/5_Top_Cool_Votes_StrataScratch.ipynb\" target=\"_parent\"><img src=\"https://colab.research.google.com/assets/colab-badge.svg\" alt=\"Open In Colab\"/></a>"
      ]
    },
    {
      "cell_type": "markdown",
      "metadata": {
        "id": "TAOnbq_JP3GJ"
      },
      "source": [
        "##5-Top Cool Votes - StrataScratch\n",
        "\n",
        "WHERE, INNER QUERY, MAX"
      ]
    },
    {
      "cell_type": "code",
      "metadata": {
        "id": "fG2iTFbcP1ke"
      },
      "source": [
        "SELECT business_name,\n",
        "       review_text\n",
        "FROM yelp_reviews\n",
        "WHERE cool =\n",
        "    (SELECT max(cool)\n",
        "     FROM yelp_reviews)"
      ],
      "execution_count": null,
      "outputs": []
    }
  ]
}