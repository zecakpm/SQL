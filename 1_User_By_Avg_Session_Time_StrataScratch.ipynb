{
  "nbformat": 4,
  "nbformat_minor": 0,
  "metadata": {
    "colab": {
      "name": "1-User By Avg Session Time - StrataScratch.ipynb",
      "provenance": [],
      "authorship_tag": "ABX9TyMItG7zzGLbyRWvyC4MyUts",
      "include_colab_link": true
    },
    "kernelspec": {
      "name": "python3",
      "display_name": "Python 3"
    },
    "language_info": {
      "name": "python"
    }
  },
  "cells": [
    {
      "cell_type": "markdown",
      "metadata": {
        "id": "view-in-github",
        "colab_type": "text"
      },
      "source": [
        "<a href=\"https://colab.research.google.com/github/zecakpm/SQL/blob/main/1_User_By_Avg_Session_Time_StrataScratch.ipynb\" target=\"_parent\"><img src=\"https://colab.research.google.com/assets/colab-badge.svg\" alt=\"Open In Colab\"/></a>"
      ]
    },
    {
      "cell_type": "markdown",
      "metadata": {
        "id": "Xau425sa9rlp"
      },
      "source": [
        "#1-User By Avg Session Time - StrataScratch\n",
        "WITH, EXTRACT, MIN, INNER JOIN, AVG\n",
        "\n",
        "\n",
        "\n"
      ]
    },
    {
      "cell_type": "code",
      "metadata": {
        "id": "7KQJQAbx9kyM"
      },
      "source": [
        "WITH \n",
        "  page_load_tb AS (\n",
        "  SELECT\n",
        "    user_id,\n",
        "    EXTRACT(day\n",
        "    FROM\n",
        "      timestamp) AS day,\n",
        "    MAX(timestamp) AS ts_load\n",
        "  FROM\n",
        "    facebook_web_log\n",
        "  WHERE\n",
        "    action = 'page_load'\n",
        "  GROUP BY\n",
        "    1,\n",
        "    2 ),\n",
        "  page_exit_tb AS (\n",
        "  SELECT\n",
        "    user_id,\n",
        "    MIN(timestamp) AS ts_exit\n",
        "  FROM\n",
        "    facebook_web_log\n",
        "  WHERE\n",
        "    action = 'page_exit'\n",
        "  GROUP BY\n",
        "    1 ),\n",
        "  no_neg_values AS (\n",
        "  SELECT\n",
        "    a.user_id,\n",
        "    (b.ts_exit - a.ts_load) AS session_duration\n",
        "  FROM\n",
        "    page_load_tb a\n",
        "  INNER JOIN\n",
        "    page_exit_tb b\n",
        "  ON\n",
        "    a.user_id = b.user_id\n",
        "  WHERE\n",
        "    b.ts_exit > a.ts_load )\n",
        "SELECT\n",
        "  user_id,\n",
        "  AVG(session_duration) AS avg_session_duration\n",
        "FROM\n",
        "  no_neg_values\n",
        "GROUP BY\n",
        "  1"
      ],
      "execution_count": null,
      "outputs": []
    }
  ]
}