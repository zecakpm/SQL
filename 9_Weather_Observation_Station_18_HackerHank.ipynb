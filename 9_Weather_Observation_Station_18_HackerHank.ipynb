{
  "nbformat": 4,
  "nbformat_minor": 0,
  "metadata": {
    "colab": {
      "name": "9-Weather Observation Station 18 - HackerHank.ipynb",
      "provenance": [],
      "collapsed_sections": [],
      "authorship_tag": "ABX9TyMpRDe+3bnouf3Yb3c4moCk",
      "include_colab_link": true
    },
    "kernelspec": {
      "name": "python3",
      "display_name": "Python 3"
    },
    "language_info": {
      "name": "python"
    }
  },
  "cells": [
    {
      "cell_type": "markdown",
      "metadata": {
        "id": "view-in-github",
        "colab_type": "text"
      },
      "source": [
        "<a href=\"https://colab.research.google.com/github/zecakpm/SQL/blob/main/9_Weather_Observation_Station_18_HackerHank.ipynb\" target=\"_parent\"><img src=\"https://colab.research.google.com/assets/colab-badge.svg\" alt=\"Open In Colab\"/></a>"
      ]
    },
    {
      "cell_type": "markdown",
      "source": [
        "##9-Weather Observation Station 18 - HackerHank\n",
        "Calculate Manhatan Distance between 2 points\\\n",
        "ROUND, ABS, MAX, and MIN "
      ],
      "metadata": {
        "id": "GS3JjNJg-DyV"
      }
    },
    {
      "cell_type": "code",
      "execution_count": null,
      "metadata": {
        "id": "knD5aqNE9x7z"
      },
      "outputs": [],
      "source": [
        "SELECT\n",
        "ROUND(ABS(MIN(LAT_N) - MAX(LAT_N)) + ABS(MIN(LONG_W) - MAX(LONG_W)),4)\n",
        "FROM STATION"
      ]
    }
  ]
}