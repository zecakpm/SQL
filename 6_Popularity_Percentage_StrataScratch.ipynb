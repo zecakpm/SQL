{
  "nbformat": 4,
  "nbformat_minor": 0,
  "metadata": {
    "colab": {
      "name": "6-Popularity Percentage-StrataScratch.ipynb",
      "provenance": [],
      "authorship_tag": "ABX9TyMiGgQp+gscCDOnkFqNgBrW",
      "include_colab_link": true
    },
    "kernelspec": {
      "name": "python3",
      "display_name": "Python 3"
    },
    "language_info": {
      "name": "python"
    }
  },
  "cells": [
    {
      "cell_type": "markdown",
      "metadata": {
        "id": "view-in-github",
        "colab_type": "text"
      },
      "source": [
        "<a href=\"https://colab.research.google.com/github/zecakpm/SQL/blob/main/6_Popularity_Percentage_StrataScratch.ipynb\" target=\"_parent\"><img src=\"https://colab.research.google.com/assets/colab-badge.svg\" alt=\"Open In Colab\"/></a>"
      ]
    },
    {
      "cell_type": "markdown",
      "metadata": {
        "id": "cvheLh7yj-5N"
      },
      "source": [
        "##6-Popularity Percentage-StrataScratch\n",
        "WITH, UNION, COUNT, DISTINCT, DECIMAL\n",
        "\n",
        "* check embeeded comments for hints : )"
      ]
    },
    {
      "cell_type": "code",
      "metadata": {
        "id": "9ii5S4pjj972"
      },
      "source": [
        "WITH all_pairs AS (\n",
        "SELECT\n",
        "*\n",
        "FROM\n",
        "facebook_friends\n",
        "UNION\n",
        "SELECT \n",
        "user2 AS user1, #invert the columns to find all pairs\n",
        "user1 AS user2\n",
        "FROM\n",
        "facebook_friends),\n",
        "\n",
        "all_users AS (\n",
        "SELECT \n",
        "    user1 AS users\n",
        "FROM facebook_friends\n",
        "UNION\n",
        "SELECT\n",
        "    user2 AS users\n",
        "FROM facebook_friends)\n",
        "\n",
        "\n",
        "SELECT\n",
        "user1,\n",
        "((COUNT(DISTINCT user2))::decimal) / (SELECT COUNT(DISTINCT users) FROM all_users) * 100 AS user_mod\n",
        "FROM\n",
        "all_pairs\n",
        "GROUP BY 1\n",
        "ORDER BY 1\n"
      ],
      "execution_count": null,
      "outputs": []
    }
  ]
}